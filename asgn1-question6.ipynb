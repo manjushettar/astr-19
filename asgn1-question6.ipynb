{
 "cells": [
  {
   "attachments": {},
   "cell_type": "markdown",
   "metadata": {},
   "source": [
    "Basic imports"
   ]
  },
  {
   "cell_type": "code",
   "execution_count": 4,
   "metadata": {},
   "outputs": [],
   "source": [
    "import numpy as np\n",
    "import pandas as pd\n",
    "import matplotlib.pyplot as plt\n",
    "import math"
   ]
  },
  {
   "attachments": {},
   "cell_type": "markdown",
   "metadata": {},
   "source": [
    "Sin and cosine functions: return the sin and cosine, respecitvely, of provided input x"
   ]
  },
  {
   "cell_type": "code",
   "execution_count": 6,
   "metadata": {},
   "outputs": [],
   "source": [
    "def sin(x):\n",
    "    return np.sin(x)\n",
    "\n",
    "def cos(x):\n",
    "    return np.cos(x)"
   ]
  },
  {
   "attachments": {},
   "cell_type": "markdown",
   "metadata": {},
   "source": [
    "Defines the numpy array for x, storing 1000 values between 0 and 2*pi. Calculates the sin and cosines for each of those values."
   ]
  },
  {
   "cell_type": "code",
   "execution_count": 8,
   "metadata": {},
   "outputs": [],
   "source": [
    "x = np.linspace(0, 2 * np.pi, 1000)\n",
    "sinx = [sin(x_val) for x_val in x]\n",
    "cosx = [cos(x_val) for x_val in x]"
   ]
  },
  {
   "attachments": {},
   "cell_type": "markdown",
   "metadata": {},
   "source": [
    "Stores all of this data in an accessible, tabulated dataframe."
   ]
  },
  {
   "cell_type": "code",
   "execution_count": 9,
   "metadata": {},
   "outputs": [],
   "source": [
    "df = pd.DataFrame({'x': x, 'sin(x)': sinx, 'cosx': cosx})"
   ]
  },
  {
   "attachments": {},
   "cell_type": "markdown",
   "metadata": {},
   "source": [
    "Prints out the first 10 values of x, sin(x), and cos(x). Formats it using fstrings. "
   ]
  },
  {
   "cell_type": "code",
   "execution_count": 11,
   "metadata": {},
   "outputs": [
    {
     "name": "stdout",
     "output_type": "stream",
     "text": [
      "0.0000 0.000000, 1.000000\n",
      "0.0063 0.006289, 0.999980\n",
      "0.0126 0.012579, 0.999921\n",
      "0.0189 0.018867, 0.999822\n",
      "0.0252 0.025155, 0.999684\n",
      "0.0314 0.031442, 0.999506\n",
      "0.0377 0.037728, 0.999288\n",
      "0.0440 0.044012, 0.999031\n",
      "0.0503 0.050295, 0.998734\n",
      "0.0566 0.056575, 0.998398\n"
     ]
    }
   ],
   "source": [
    "for i in range(0, 10):\n",
    "    print(f\"{x[i]:.4f} {sinx[i]:4f}, {cosx[i]:4f}\")"
   ]
  }
 ],
 "metadata": {
  "kernelspec": {
   "display_name": "Python 3",
   "language": "python",
   "name": "python3"
  },
  "language_info": {
   "codemirror_mode": {
    "name": "ipython",
    "version": 3
   },
   "file_extension": ".py",
   "mimetype": "text/x-python",
   "name": "python",
   "nbconvert_exporter": "python",
   "pygments_lexer": "ipython3",
   "version": "3.10.10"
  },
  "orig_nbformat": 4
 },
 "nbformat": 4,
 "nbformat_minor": 2
}
